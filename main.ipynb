{
 "cells": [
  {
   "cell_type": "code",
   "execution_count": 1,
   "id": "f649d0bd-27c8-46a8-8be0-fbd53e63629a",
   "metadata": {},
   "outputs": [],
   "source": [
    "import pandas as pd\n",
    "import matplotlib.pyplot as plt"
   ]
  },
  {
   "cell_type": "markdown",
   "id": "af6168b6-ca77-4f22-ba85-be5f1b1c8bd9",
   "metadata": {},
   "source": [
    "# 1. Data Ingestion:"
   ]
  },
  {
   "cell_type": "code",
   "execution_count": 2,
   "id": "19acaa8f-fd04-47d7-82bd-9294bf1b6f3f",
   "metadata": {},
   "outputs": [
    {
     "data": {
      "text/html": [
       "<div>\n",
       "<style scoped>\n",
       "    .dataframe tbody tr th:only-of-type {\n",
       "        vertical-align: middle;\n",
       "    }\n",
       "\n",
       "    .dataframe tbody tr th {\n",
       "        vertical-align: top;\n",
       "    }\n",
       "\n",
       "    .dataframe thead th {\n",
       "        text-align: right;\n",
       "    }\n",
       "</style>\n",
       "<table border=\"1\" class=\"dataframe\">\n",
       "  <thead>\n",
       "    <tr style=\"text-align: right;\">\n",
       "      <th></th>\n",
       "      <th>date</th>\n",
       "      <th>city</th>\n",
       "      <th>temperature_celsius</th>\n",
       "      <th>humidity_percent</th>\n",
       "      <th>wind_speed_kph</th>\n",
       "      <th>weather_condition</th>\n",
       "    </tr>\n",
       "  </thead>\n",
       "  <tbody>\n",
       "    <tr>\n",
       "      <th>0</th>\n",
       "      <td>2023-01-01</td>\n",
       "      <td>New York</td>\n",
       "      <td>5.0</td>\n",
       "      <td>60.0</td>\n",
       "      <td>10.0</td>\n",
       "      <td>Sunny</td>\n",
       "    </tr>\n",
       "    <tr>\n",
       "      <th>1</th>\n",
       "      <td>01/02/2023</td>\n",
       "      <td>New York</td>\n",
       "      <td>NaN</td>\n",
       "      <td>65.0</td>\n",
       "      <td>12.0</td>\n",
       "      <td>Cloudy</td>\n",
       "    </tr>\n",
       "    <tr>\n",
       "      <th>2</th>\n",
       "      <td>03-01-2023</td>\n",
       "      <td>New York</td>\n",
       "      <td>7.0</td>\n",
       "      <td>NaN</td>\n",
       "      <td>8.0</td>\n",
       "      <td>Rainy</td>\n",
       "    </tr>\n",
       "    <tr>\n",
       "      <th>3</th>\n",
       "      <td>NaN</td>\n",
       "      <td>London</td>\n",
       "      <td>8.0</td>\n",
       "      <td>70.0</td>\n",
       "      <td>15.0</td>\n",
       "      <td>Unknown</td>\n",
       "    </tr>\n",
       "    <tr>\n",
       "      <th>4</th>\n",
       "      <td>2023-01-02</td>\n",
       "      <td>London</td>\n",
       "      <td>6.0</td>\n",
       "      <td>75.0</td>\n",
       "      <td>20.0</td>\n",
       "      <td>Snowy</td>\n",
       "    </tr>\n",
       "  </tbody>\n",
       "</table>\n",
       "</div>"
      ],
      "text/plain": [
       "         date      city  temperature_celsius  humidity_percent  \\\n",
       "0  2023-01-01  New York                  5.0              60.0   \n",
       "1  01/02/2023  New York                  NaN              65.0   \n",
       "2  03-01-2023  New York                  7.0               NaN   \n",
       "3         NaN    London                  8.0              70.0   \n",
       "4  2023-01-02    London                  6.0              75.0   \n",
       "\n",
       "   wind_speed_kph weather_condition  \n",
       "0            10.0             Sunny  \n",
       "1            12.0            Cloudy  \n",
       "2             8.0             Rainy  \n",
       "3            15.0           Unknown  \n",
       "4            20.0             Snowy  "
      ]
     },
     "execution_count": 2,
     "metadata": {},
     "output_type": "execute_result"
    }
   ],
   "source": [
    "df = pd.read_csv(\"weather_data.csv\")\n",
    "df.head()"
   ]
  },
  {
   "cell_type": "code",
   "execution_count": 3,
   "id": "1ecec487-5950-4cea-80ec-baee9395c8f0",
   "metadata": {},
   "outputs": [
    {
     "name": "stdout",
     "output_type": "stream",
     "text": [
      "<class 'pandas.core.frame.DataFrame'>\n",
      "RangeIndex: 100 entries, 0 to 99\n",
      "Data columns (total 6 columns):\n",
      " #   Column               Non-Null Count  Dtype  \n",
      "---  ------               --------------  -----  \n",
      " 0   date                 80 non-null     object \n",
      " 1   city                 100 non-null    object \n",
      " 2   temperature_celsius  42 non-null     float64\n",
      " 3   humidity_percent     47 non-null     float64\n",
      " 4   wind_speed_kph       55 non-null     float64\n",
      " 5   weather_condition    84 non-null     object \n",
      "dtypes: float64(3), object(3)\n",
      "memory usage: 4.8+ KB\n"
     ]
    }
   ],
   "source": [
    "df.info()"
   ]
  },
  {
   "cell_type": "markdown",
   "id": "97c4f082-89d2-4ad2-b6c7-1407d5f11a7d",
   "metadata": {},
   "source": [
    "# 2. Data Cleaning and Transformation:"
   ]
  },
  {
   "cell_type": "code",
   "execution_count": 4,
   "id": "8439cf1d-9fc1-43ac-b466-b58ecbcdd3f7",
   "metadata": {},
   "outputs": [],
   "source": [
    "# Replacing the nan by the mean of temperature, humidity and wind speed for that city\n",
    "cols = ['temperature_celsius', 'humidity_percent','wind_speed_kph']\n",
    "for col in cols:\n",
    "    df[col] = df[col].fillna(df.groupby('city')[col].transform('mean'))"
   ]
  },
  {
   "cell_type": "code",
   "execution_count": 5,
   "id": "79624abc-aaa4-4357-9a81-4d00bb9bbaf5",
   "metadata": {},
   "outputs": [],
   "source": [
    "# drop the nan date\n",
    "df = df.dropna(subset=['date'])"
   ]
  },
  {
   "cell_type": "markdown",
   "id": "de255a9c-2ae8-43ef-b9b0-a23f03c123dc",
   "metadata": {},
   "source": [
    "Standardizing Dates"
   ]
  },
  {
   "cell_type": "code",
   "execution_count": 6,
   "id": "3d55d7f4-574e-4657-9b73-c3ebb24452ed",
   "metadata": {},
   "outputs": [],
   "source": [
    "df['date'] = pd.to_datetime(df['date'], format='mixed', errors='coerce')"
   ]
  },
  {
   "cell_type": "markdown",
   "id": "0bbb746d-e4ce-4232-b1f9-22de916cb6c0",
   "metadata": {},
   "source": [
    "Add a New Column: Create a temperature_fahrenheit column by converting temperature_celsius using the formula: F=C×9/5+32"
   ]
  },
  {
   "cell_type": "code",
   "execution_count": 7,
   "id": "d202e6f4-df41-42a6-a55c-db1165543e74",
   "metadata": {},
   "outputs": [],
   "source": [
    "df[\"temperature_fahrenheit\"] = (df[\"temperature_celsius\"]*9/5)+32"
   ]
  },
  {
   "cell_type": "markdown",
   "id": "b8ab1610-3db7-4497-8c8c-9672d3bd1df3",
   "metadata": {},
   "source": [
    "Filter Data: Keep only rows where weather_condition is not \"Unknown\" or null."
   ]
  },
  {
   "cell_type": "code",
   "execution_count": 8,
   "id": "4de84788-104b-435d-8ae7-418fff26a978",
   "metadata": {},
   "outputs": [],
   "source": [
    "df_filtered = df[(df['weather_condition'].notna()) & (df['weather_condition'] != 'Unknown')]"
   ]
  },
  {
   "cell_type": "markdown",
   "id": "6864f265-9244-424a-a19e-1de608b21138",
   "metadata": {},
   "source": [
    "# 3. Data Output"
   ]
  },
  {
   "cell_type": "code",
   "execution_count": 9,
   "id": "fe1644d3-0616-4771-b049-cc37f0f9c8f1",
   "metadata": {},
   "outputs": [],
   "source": [
    "df_filtered.to_csv(\"outputs/tranformed_weather_data.csv\")"
   ]
  },
  {
   "cell_type": "markdown",
   "id": "e813963c-9c1a-43de-b03a-827816007154",
   "metadata": {},
   "source": [
    "Generate a simple text report (e.g., Markdown or TXT file) listing the top 5 cities with the highest average temperature_celsius"
   ]
  },
  {
   "cell_type": "code",
   "execution_count": 10,
   "id": "1ac69e6b-b738-4dcf-b8ef-d0af477577ed",
   "metadata": {},
   "outputs": [
    {
     "data": {
      "text/plain": [
       "city\n",
       "London      9.888393\n",
       "New York    7.874303\n",
       "Tokyo       6.585882\n",
       "Name: temperature_celsius, dtype: float64"
      ]
     },
     "execution_count": 10,
     "metadata": {},
     "output_type": "execute_result"
    }
   ],
   "source": [
    "df_filtered.groupby(\"city\")[\"temperature_celsius\"].mean()"
   ]
  },
  {
   "cell_type": "code",
   "execution_count": 11,
   "id": "cc2bedf7-cc8d-427a-b8c1-11902cad66af",
   "metadata": {},
   "outputs": [],
   "source": [
    "avg_temp_by_city = df_filtered.groupby(\"city\")[\"temperature_celsius\"].mean().sort_values(ascending=False).head(5)\n",
    "\n",
    "report_path = \"outputs/top_5_hottest_cities.md\"\n",
    "with open(report_path, \"w\") as report_file:\n",
    "    report_file.write(\"# Top 5 Hottest Cities by Average Temperature (°C)\\n\\n\")\n",
    "    for city, temp in avg_temp_by_city.items():\n",
    "        report_file.write(f\"- **{city}**: {temp:.2f} °C\\n\")"
   ]
  },
  {
   "cell_type": "markdown",
   "id": "c4a0bfda-38d2-483a-8f25-dea01c6e28cf",
   "metadata": {},
   "source": [
    "# b. Bonus (Optional)"
   ]
  },
  {
   "cell_type": "code",
   "execution_count": 12,
   "id": "360102a9-a2c9-4958-ab91-47e75c7210a5",
   "metadata": {},
   "outputs": [
    {
     "data": {
      "image/png": "[encoded data removed]",
      "text/plain": [
       "<Figure size 640x480 with 1 Axes>"
      ]
     },
     "metadata": {},
     "output_type": "display_data"
    }
   ],
   "source": [
    "df_filtered.groupby(\"city\")[\"temperature_celsius\"].mean().plot(kind =\"bar\")\n",
    "plt.title(\"Average Temperature per City\")\n",
    "plt.xlabel(\"Cities\")\n",
    "plt.xticks(rotation=0)\n",
    "plt.ylabel(\"Average Tempearture\")\n",
    "plt.savefig(\"outputs/avg_temp_bar_chart.png\")\n",
    "plt.show()"
   ]
  },
  {
   "cell_type": "code",
   "execution_count": null,
   "id": "768484a1-3ec5-4897-ae59-94037db8a30f",
   "metadata": {},
   "outputs": [],
   "source": []
  }
 ],
 "metadata": {
  "kernelspec": {
   "display_name": "Python 3 (ipykernel)",
   "language": "python",
   "name": "python3"
  },
  "language_info": {
   "codemirror_mode": {
    "name": "ipython",
    "version": 3
   },
   "file_extension": ".py",
   "mimetype": "text/x-python",
   "name": "python",
   "nbconvert_exporter": "python",
   "pygments_lexer": "ipython3",
   "version": "3.12.7"
  }
 },
 "nbformat": 4,
 "nbformat_minor": 5
}
